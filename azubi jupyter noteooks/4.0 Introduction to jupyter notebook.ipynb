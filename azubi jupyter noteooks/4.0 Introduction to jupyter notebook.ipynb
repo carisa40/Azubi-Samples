{
 "cells": [
  {
   "cell_type": "markdown",
   "metadata": {},
   "source": [
    "# Introduction to jupyter notebook"
   ]
  },
  {
   "cell_type": "code",
   "execution_count": 1,
   "metadata": {},
   "outputs": [
    {
     "name": "stdout",
     "output_type": "stream",
     "text": [
      "hello world\n"
     ]
    }
   ],
   "source": [
    "# This is a code cell\n",
    "# write anything you want and either press the \"run select cell\" button above\n",
    "# or press shift+enter to execute this cell and move on to the next one\n",
    "print('hello world')"
   ]
  },
  {
   "cell_type": "code",
   "execution_count": 2,
   "metadata": {},
   "outputs": [
    {
     "name": "stdout",
     "output_type": "stream",
     "text": [
      "Goodnight people\n"
     ]
    }
   ],
   "source": [
    "print(\"Goodnight people\")"
   ]
  },
  {
   "cell_type": "markdown",
   "metadata": {},
   "source": [
    "Note the number next to the cell after you run it. Run it again and see what happens to the number."
   ]
  },
  {
   "cell_type": "markdown",
   "metadata": {},
   "source": [
    "I just want to document"
   ]
  },
  {
   "cell_type": "markdown",
   "metadata": {},
   "source": [
    "This is a markdown cell. Double click it to edit. \n",
    "\n",
    "Think of these cells as a notepad that you can use to take notes. You can format many things. Reference guide: https://jupyter-notebook.readthedocs.io/en/stable/examples/Notebook/Working%20With%20Markdown%20Cells.html"
   ]
  },
  {
   "cell_type": "markdown",
   "metadata": {},
   "source": [
    "Double click this cell to see examples of headings:\n",
    "# Very Important\n",
    "## Less Important\n",
    "### Still Somewhat Important\n",
    "#### Ok, maybe not so important\n",
    "---"
   ]
  },
  {
   "cell_type": "markdown",
   "metadata": {},
   "source": [
    "Double click this cell to see examples of lists:\n",
    "- item one\n",
    "- item two\n",
    "- item three\n",
    "\n",
    "Make sure there is a break between un-ordered and ordered lists.\n",
    "\n",
    "1. number one\n",
    "2. number two\n",
    "3. number three\n",
    "---"
   ]
  },
  {
   "cell_type": "markdown",
   "metadata": {},
   "source": [
    "# Magic command\n",
    "\n",
    "Jupyter Notebook has a bunch of built-in special commands that provide a bunch of useful functions. We won't go over all of them here. Documentation can be found here: https://ipython.readthedocs.io/en/stable/interactive/magics.html"
   ]
  },
  {
   "cell_type": "code",
   "execution_count": 6,
   "metadata": {},
   "outputs": [
    {
     "name": "stdout",
     "output_type": "stream",
     "text": [
      "Wall time: 0 ns\n"
     ]
    }
   ],
   "source": [
    "# %time magic command will show you the compute time\n",
    "%time\n",
    "count = 0\n",
    "for ii in range(10000):\n",
    "    count += 1"
   ]
  },
  {
   "cell_type": "markdown",
   "metadata": {},
   "source": [
    "## Normal System commands"
   ]
  },
  {
   "cell_type": "code",
   "execution_count": 7,
   "metadata": {},
   "outputs": [
    {
     "data": {
      "text/plain": [
       "'F:\\\\projects\\\\Data\\\\projects\\\\class_div'"
      ]
     },
     "execution_count": 7,
     "metadata": {},
     "output_type": "execute_result"
    }
   ],
   "source": [
    "%pwd"
   ]
  },
  {
   "cell_type": "code",
   "execution_count": 9,
   "metadata": {},
   "outputs": [
    {
     "name": "stdout",
     "output_type": "stream",
     "text": [
      "F:\\projects\\Data\n"
     ]
    }
   ],
   "source": [
    "%cd .."
   ]
  },
  {
   "cell_type": "code",
   "execution_count": 10,
   "metadata": {},
   "outputs": [
    {
     "name": "stdout",
     "output_type": "stream",
     "text": [
      " Volume in drive F is common\n",
      " Volume Serial Number is 3216-7A1E\n",
      "\n",
      " Directory of F:\\projects\\Data\n",
      "\n",
      "12/02/2020  12:18 PM    <DIR>          .\n",
      "12/02/2020  12:18 PM    <DIR>          ..\n",
      "12/02/2020  12:17 PM    <DIR>          Documents\n",
      "03/05/2020  11:16 AM    <DIR>          projects\n",
      "               0 File(s)              0 bytes\n",
      "               4 Dir(s)  997,301,030,912 bytes free\n"
     ]
    }
   ],
   "source": [
    "%ls"
   ]
  },
  {
   "cell_type": "code",
   "execution_count": null,
   "metadata": {},
   "outputs": [],
   "source": [
    "import datetime\n",
    "now = datetime.datetime.now()\n",
    "def start_end() :\n",
    "    f= open(\"hours_worked.txt\",\"w\")\n",
    "    start_time = input(\"Hi Nana, enter current time to clock-in using 24hr HHMM format : \\n\")\n",
    "    print (\"You clocked in at \\n\", now.strftime(\"%Y-%m-%d %H:%M:%S\"))\n",
    "    f = open(\"hours_worked.txt\", \"a\")\n",
    "\n",
    "    end_time = input (\"Hi Nana, enter current time to clockout using 24hr HHMM format : \\n\")\n",
    "    print (\"You clocked out at \\n\", now.strftime(\"%Y-%m-%d %H:%M:%S\"))\n",
    "    f = open(\"hours_worked.txt\", \"a\")\n",
    "    return \n",
    "start_end()\n",
    "\n",
    "\n",
    "wages = (float(end_time) - int(start_time)) * 5\n",
    "text = (\"You have earned\" + \"${}\")\n",
    "print(text.format(wages))\n",
    "f = open(\"hours_worked.txt\", \"a\")"
   ]
  },
  {
   "cell_type": "code",
   "execution_count": null,
   "metadata": {},
   "outputs": [],
   "source": []
  },
  {
   "cell_type": "code",
   "execution_count": null,
   "metadata": {},
   "outputs": [],
   "source": []
  }
 ],
 "metadata": {
  "kernelspec": {
   "display_name": "Python 3",
   "language": "python",
   "name": "python3"
  },
  "language_info": {
   "codemirror_mode": {
    "name": "ipython",
    "version": 3
   },
   "file_extension": ".py",
   "mimetype": "text/x-python",
   "name": "python",
   "nbconvert_exporter": "python",
   "pygments_lexer": "ipython3",
   "version": "3.6.5"
  }
 },
 "nbformat": 4,
 "nbformat_minor": 4
}
